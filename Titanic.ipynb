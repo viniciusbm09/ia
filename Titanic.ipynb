{
 "cells": [
  {
   "cell_type": "markdown",
   "metadata": {},
   "source": [
    "# Classificação binária"
   ]
  },
  {
   "cell_type": "markdown",
   "metadata": {},
   "source": [
    "#### Utilizando árvore de descisão para calcular a probabilidade de sobrevivência de uma pessoa baseada na base de dados do Titanic"
   ]
  },
  {
   "cell_type": "markdown",
   "metadata": {},
   "source": [
    "#### Importação de bibliotecas"
   ]
  },
  {
   "cell_type": "code",
   "execution_count": 42,
   "metadata": {
    "collapsed": true
   },
   "outputs": [],
   "source": [
    "import numpy as np\n",
    "import pandas as pd\n",
    "import matplotlib.pyplot as plt\n",
    "import seaborn as sb\n",
    "\n",
    "%matplotlib inline\n",
    "\n"
   ]
  },
  {
   "cell_type": "markdown",
   "metadata": {},
   "source": [
    "#### IMPORTANDO DADOS"
   ]
  },
  {
   "cell_type": "code",
   "execution_count": 43,
   "metadata": {
    "collapsed": true
   },
   "outputs": [],
   "source": [
    "df = pd.read_csv(\"titanic.csv\")"
   ]
  },
  {
   "cell_type": "code",
   "execution_count": 44,
   "metadata": {
    "collapsed": false
   },
   "outputs": [
    {
     "data": {
      "text/html": [
       "<div>\n",
       "<table border=\"1\" class=\"dataframe\">\n",
       "  <thead>\n",
       "    <tr style=\"text-align: right;\">\n",
       "      <th></th>\n",
       "      <th>id</th>\n",
       "      <th>sex</th>\n",
       "      <th>age</th>\n",
       "      <th>social_class</th>\n",
       "      <th>survived</th>\n",
       "    </tr>\n",
       "  </thead>\n",
       "  <tbody>\n",
       "    <tr>\n",
       "      <th>0</th>\n",
       "      <td>0</td>\n",
       "      <td>1</td>\n",
       "      <td>22.0</td>\n",
       "      <td>3.0</td>\n",
       "      <td>no</td>\n",
       "    </tr>\n",
       "    <tr>\n",
       "      <th>1</th>\n",
       "      <td>1</td>\n",
       "      <td>0</td>\n",
       "      <td>38.0</td>\n",
       "      <td>1.0</td>\n",
       "      <td>yes</td>\n",
       "    </tr>\n",
       "    <tr>\n",
       "      <th>2</th>\n",
       "      <td>2</td>\n",
       "      <td>0</td>\n",
       "      <td>26.0</td>\n",
       "      <td>3.0</td>\n",
       "      <td>yes</td>\n",
       "    </tr>\n",
       "    <tr>\n",
       "      <th>3</th>\n",
       "      <td>3</td>\n",
       "      <td>0</td>\n",
       "      <td>35.0</td>\n",
       "      <td>1.0</td>\n",
       "      <td>yes</td>\n",
       "    </tr>\n",
       "    <tr>\n",
       "      <th>4</th>\n",
       "      <td>4</td>\n",
       "      <td>1</td>\n",
       "      <td>35.0</td>\n",
       "      <td>3.0</td>\n",
       "      <td>no</td>\n",
       "    </tr>\n",
       "  </tbody>\n",
       "</table>\n",
       "</div>"
      ],
      "text/plain": [
       "   id  sex   age  social_class survived\n",
       "0   0    1  22.0           3.0       no\n",
       "1   1    0  38.0           1.0      yes\n",
       "2   2    0  26.0           3.0      yes\n",
       "3   3    0  35.0           1.0      yes\n",
       "4   4    1  35.0           3.0       no"
      ]
     },
     "execution_count": 44,
     "metadata": {},
     "output_type": "execute_result"
    }
   ],
   "source": [
    "df.head()"
   ]
  },
  {
   "cell_type": "markdown",
   "metadata": {},
   "source": [
    "### Eliminando a colina id"
   ]
  },
  {
   "cell_type": "code",
   "execution_count": 45,
   "metadata": {
    "collapsed": false
   },
   "outputs": [],
   "source": [
    "df = df.drop(\"id\", axis=1)"
   ]
  },
  {
   "cell_type": "code",
   "execution_count": 46,
   "metadata": {
    "collapsed": false
   },
   "outputs": [
    {
     "data": {
      "text/html": [
       "<div>\n",
       "<table border=\"1\" class=\"dataframe\">\n",
       "  <thead>\n",
       "    <tr style=\"text-align: right;\">\n",
       "      <th></th>\n",
       "      <th>sex</th>\n",
       "      <th>age</th>\n",
       "      <th>social_class</th>\n",
       "      <th>survived</th>\n",
       "    </tr>\n",
       "  </thead>\n",
       "  <tbody>\n",
       "    <tr>\n",
       "      <th>0</th>\n",
       "      <td>1</td>\n",
       "      <td>22.000000</td>\n",
       "      <td>3.0</td>\n",
       "      <td>no</td>\n",
       "    </tr>\n",
       "    <tr>\n",
       "      <th>1</th>\n",
       "      <td>0</td>\n",
       "      <td>38.000000</td>\n",
       "      <td>1.0</td>\n",
       "      <td>yes</td>\n",
       "    </tr>\n",
       "    <tr>\n",
       "      <th>2</th>\n",
       "      <td>0</td>\n",
       "      <td>26.000000</td>\n",
       "      <td>3.0</td>\n",
       "      <td>yes</td>\n",
       "    </tr>\n",
       "    <tr>\n",
       "      <th>3</th>\n",
       "      <td>0</td>\n",
       "      <td>35.000000</td>\n",
       "      <td>1.0</td>\n",
       "      <td>yes</td>\n",
       "    </tr>\n",
       "    <tr>\n",
       "      <th>4</th>\n",
       "      <td>1</td>\n",
       "      <td>35.000000</td>\n",
       "      <td>3.0</td>\n",
       "      <td>no</td>\n",
       "    </tr>\n",
       "    <tr>\n",
       "      <th>5</th>\n",
       "      <td>1</td>\n",
       "      <td>29.699118</td>\n",
       "      <td>3.0</td>\n",
       "      <td>no</td>\n",
       "    </tr>\n",
       "    <tr>\n",
       "      <th>6</th>\n",
       "      <td>1</td>\n",
       "      <td>54.000000</td>\n",
       "      <td>1.0</td>\n",
       "      <td>no</td>\n",
       "    </tr>\n",
       "    <tr>\n",
       "      <th>7</th>\n",
       "      <td>1</td>\n",
       "      <td>2.000000</td>\n",
       "      <td>3.0</td>\n",
       "      <td>no</td>\n",
       "    </tr>\n",
       "    <tr>\n",
       "      <th>8</th>\n",
       "      <td>0</td>\n",
       "      <td>27.000000</td>\n",
       "      <td>3.0</td>\n",
       "      <td>yes</td>\n",
       "    </tr>\n",
       "    <tr>\n",
       "      <th>9</th>\n",
       "      <td>0</td>\n",
       "      <td>14.000000</td>\n",
       "      <td>2.0</td>\n",
       "      <td>yes</td>\n",
       "    </tr>\n",
       "    <tr>\n",
       "      <th>10</th>\n",
       "      <td>0</td>\n",
       "      <td>4.000000</td>\n",
       "      <td>3.0</td>\n",
       "      <td>yes</td>\n",
       "    </tr>\n",
       "    <tr>\n",
       "      <th>11</th>\n",
       "      <td>0</td>\n",
       "      <td>58.000000</td>\n",
       "      <td>1.0</td>\n",
       "      <td>yes</td>\n",
       "    </tr>\n",
       "    <tr>\n",
       "      <th>12</th>\n",
       "      <td>1</td>\n",
       "      <td>20.000000</td>\n",
       "      <td>3.0</td>\n",
       "      <td>no</td>\n",
       "    </tr>\n",
       "    <tr>\n",
       "      <th>13</th>\n",
       "      <td>1</td>\n",
       "      <td>39.000000</td>\n",
       "      <td>3.0</td>\n",
       "      <td>no</td>\n",
       "    </tr>\n",
       "    <tr>\n",
       "      <th>14</th>\n",
       "      <td>0</td>\n",
       "      <td>14.000000</td>\n",
       "      <td>3.0</td>\n",
       "      <td>no</td>\n",
       "    </tr>\n",
       "    <tr>\n",
       "      <th>15</th>\n",
       "      <td>0</td>\n",
       "      <td>55.000000</td>\n",
       "      <td>2.0</td>\n",
       "      <td>yes</td>\n",
       "    </tr>\n",
       "    <tr>\n",
       "      <th>16</th>\n",
       "      <td>1</td>\n",
       "      <td>2.000000</td>\n",
       "      <td>3.0</td>\n",
       "      <td>no</td>\n",
       "    </tr>\n",
       "    <tr>\n",
       "      <th>17</th>\n",
       "      <td>1</td>\n",
       "      <td>29.699118</td>\n",
       "      <td>2.0</td>\n",
       "      <td>yes</td>\n",
       "    </tr>\n",
       "    <tr>\n",
       "      <th>18</th>\n",
       "      <td>0</td>\n",
       "      <td>31.000000</td>\n",
       "      <td>3.0</td>\n",
       "      <td>no</td>\n",
       "    </tr>\n",
       "    <tr>\n",
       "      <th>19</th>\n",
       "      <td>0</td>\n",
       "      <td>29.699118</td>\n",
       "      <td>3.0</td>\n",
       "      <td>yes</td>\n",
       "    </tr>\n",
       "    <tr>\n",
       "      <th>20</th>\n",
       "      <td>1</td>\n",
       "      <td>35.000000</td>\n",
       "      <td>2.0</td>\n",
       "      <td>no</td>\n",
       "    </tr>\n",
       "    <tr>\n",
       "      <th>21</th>\n",
       "      <td>1</td>\n",
       "      <td>34.000000</td>\n",
       "      <td>2.0</td>\n",
       "      <td>yes</td>\n",
       "    </tr>\n",
       "    <tr>\n",
       "      <th>22</th>\n",
       "      <td>0</td>\n",
       "      <td>15.000000</td>\n",
       "      <td>3.0</td>\n",
       "      <td>yes</td>\n",
       "    </tr>\n",
       "    <tr>\n",
       "      <th>23</th>\n",
       "      <td>1</td>\n",
       "      <td>28.000000</td>\n",
       "      <td>1.0</td>\n",
       "      <td>yes</td>\n",
       "    </tr>\n",
       "    <tr>\n",
       "      <th>24</th>\n",
       "      <td>0</td>\n",
       "      <td>8.000000</td>\n",
       "      <td>3.0</td>\n",
       "      <td>no</td>\n",
       "    </tr>\n",
       "    <tr>\n",
       "      <th>25</th>\n",
       "      <td>0</td>\n",
       "      <td>38.000000</td>\n",
       "      <td>3.0</td>\n",
       "      <td>yes</td>\n",
       "    </tr>\n",
       "    <tr>\n",
       "      <th>26</th>\n",
       "      <td>1</td>\n",
       "      <td>29.699118</td>\n",
       "      <td>3.0</td>\n",
       "      <td>no</td>\n",
       "    </tr>\n",
       "    <tr>\n",
       "      <th>27</th>\n",
       "      <td>1</td>\n",
       "      <td>19.000000</td>\n",
       "      <td>1.0</td>\n",
       "      <td>no</td>\n",
       "    </tr>\n",
       "    <tr>\n",
       "      <th>28</th>\n",
       "      <td>0</td>\n",
       "      <td>29.699118</td>\n",
       "      <td>3.0</td>\n",
       "      <td>yes</td>\n",
       "    </tr>\n",
       "    <tr>\n",
       "      <th>29</th>\n",
       "      <td>1</td>\n",
       "      <td>29.699118</td>\n",
       "      <td>3.0</td>\n",
       "      <td>no</td>\n",
       "    </tr>\n",
       "    <tr>\n",
       "      <th>...</th>\n",
       "      <td>...</td>\n",
       "      <td>...</td>\n",
       "      <td>...</td>\n",
       "      <td>...</td>\n",
       "    </tr>\n",
       "    <tr>\n",
       "      <th>861</th>\n",
       "      <td>1</td>\n",
       "      <td>21.000000</td>\n",
       "      <td>2.0</td>\n",
       "      <td>no</td>\n",
       "    </tr>\n",
       "    <tr>\n",
       "      <th>862</th>\n",
       "      <td>0</td>\n",
       "      <td>48.000000</td>\n",
       "      <td>1.0</td>\n",
       "      <td>yes</td>\n",
       "    </tr>\n",
       "    <tr>\n",
       "      <th>863</th>\n",
       "      <td>0</td>\n",
       "      <td>29.699118</td>\n",
       "      <td>3.0</td>\n",
       "      <td>no</td>\n",
       "    </tr>\n",
       "    <tr>\n",
       "      <th>864</th>\n",
       "      <td>1</td>\n",
       "      <td>24.000000</td>\n",
       "      <td>2.0</td>\n",
       "      <td>no</td>\n",
       "    </tr>\n",
       "    <tr>\n",
       "      <th>865</th>\n",
       "      <td>0</td>\n",
       "      <td>42.000000</td>\n",
       "      <td>2.0</td>\n",
       "      <td>yes</td>\n",
       "    </tr>\n",
       "    <tr>\n",
       "      <th>866</th>\n",
       "      <td>0</td>\n",
       "      <td>27.000000</td>\n",
       "      <td>2.0</td>\n",
       "      <td>yes</td>\n",
       "    </tr>\n",
       "    <tr>\n",
       "      <th>867</th>\n",
       "      <td>1</td>\n",
       "      <td>31.000000</td>\n",
       "      <td>1.0</td>\n",
       "      <td>no</td>\n",
       "    </tr>\n",
       "    <tr>\n",
       "      <th>868</th>\n",
       "      <td>1</td>\n",
       "      <td>29.699118</td>\n",
       "      <td>3.0</td>\n",
       "      <td>no</td>\n",
       "    </tr>\n",
       "    <tr>\n",
       "      <th>869</th>\n",
       "      <td>1</td>\n",
       "      <td>4.000000</td>\n",
       "      <td>3.0</td>\n",
       "      <td>yes</td>\n",
       "    </tr>\n",
       "    <tr>\n",
       "      <th>870</th>\n",
       "      <td>1</td>\n",
       "      <td>26.000000</td>\n",
       "      <td>3.0</td>\n",
       "      <td>no</td>\n",
       "    </tr>\n",
       "    <tr>\n",
       "      <th>871</th>\n",
       "      <td>0</td>\n",
       "      <td>47.000000</td>\n",
       "      <td>1.0</td>\n",
       "      <td>yes</td>\n",
       "    </tr>\n",
       "    <tr>\n",
       "      <th>872</th>\n",
       "      <td>1</td>\n",
       "      <td>33.000000</td>\n",
       "      <td>1.0</td>\n",
       "      <td>no</td>\n",
       "    </tr>\n",
       "    <tr>\n",
       "      <th>873</th>\n",
       "      <td>1</td>\n",
       "      <td>47.000000</td>\n",
       "      <td>3.0</td>\n",
       "      <td>no</td>\n",
       "    </tr>\n",
       "    <tr>\n",
       "      <th>874</th>\n",
       "      <td>0</td>\n",
       "      <td>28.000000</td>\n",
       "      <td>2.0</td>\n",
       "      <td>yes</td>\n",
       "    </tr>\n",
       "    <tr>\n",
       "      <th>875</th>\n",
       "      <td>0</td>\n",
       "      <td>15.000000</td>\n",
       "      <td>3.0</td>\n",
       "      <td>yes</td>\n",
       "    </tr>\n",
       "    <tr>\n",
       "      <th>876</th>\n",
       "      <td>1</td>\n",
       "      <td>20.000000</td>\n",
       "      <td>3.0</td>\n",
       "      <td>no</td>\n",
       "    </tr>\n",
       "    <tr>\n",
       "      <th>877</th>\n",
       "      <td>1</td>\n",
       "      <td>19.000000</td>\n",
       "      <td>3.0</td>\n",
       "      <td>no</td>\n",
       "    </tr>\n",
       "    <tr>\n",
       "      <th>878</th>\n",
       "      <td>1</td>\n",
       "      <td>29.699118</td>\n",
       "      <td>3.0</td>\n",
       "      <td>no</td>\n",
       "    </tr>\n",
       "    <tr>\n",
       "      <th>879</th>\n",
       "      <td>0</td>\n",
       "      <td>56.000000</td>\n",
       "      <td>1.0</td>\n",
       "      <td>yes</td>\n",
       "    </tr>\n",
       "    <tr>\n",
       "      <th>880</th>\n",
       "      <td>0</td>\n",
       "      <td>25.000000</td>\n",
       "      <td>2.0</td>\n",
       "      <td>yes</td>\n",
       "    </tr>\n",
       "    <tr>\n",
       "      <th>881</th>\n",
       "      <td>1</td>\n",
       "      <td>33.000000</td>\n",
       "      <td>3.0</td>\n",
       "      <td>no</td>\n",
       "    </tr>\n",
       "    <tr>\n",
       "      <th>882</th>\n",
       "      <td>0</td>\n",
       "      <td>22.000000</td>\n",
       "      <td>3.0</td>\n",
       "      <td>no</td>\n",
       "    </tr>\n",
       "    <tr>\n",
       "      <th>883</th>\n",
       "      <td>1</td>\n",
       "      <td>28.000000</td>\n",
       "      <td>2.0</td>\n",
       "      <td>no</td>\n",
       "    </tr>\n",
       "    <tr>\n",
       "      <th>884</th>\n",
       "      <td>1</td>\n",
       "      <td>25.000000</td>\n",
       "      <td>3.0</td>\n",
       "      <td>no</td>\n",
       "    </tr>\n",
       "    <tr>\n",
       "      <th>885</th>\n",
       "      <td>0</td>\n",
       "      <td>39.000000</td>\n",
       "      <td>3.0</td>\n",
       "      <td>no</td>\n",
       "    </tr>\n",
       "    <tr>\n",
       "      <th>886</th>\n",
       "      <td>1</td>\n",
       "      <td>27.000000</td>\n",
       "      <td>2.0</td>\n",
       "      <td>no</td>\n",
       "    </tr>\n",
       "    <tr>\n",
       "      <th>887</th>\n",
       "      <td>0</td>\n",
       "      <td>19.000000</td>\n",
       "      <td>1.0</td>\n",
       "      <td>yes</td>\n",
       "    </tr>\n",
       "    <tr>\n",
       "      <th>888</th>\n",
       "      <td>0</td>\n",
       "      <td>29.699118</td>\n",
       "      <td>3.0</td>\n",
       "      <td>no</td>\n",
       "    </tr>\n",
       "    <tr>\n",
       "      <th>889</th>\n",
       "      <td>1</td>\n",
       "      <td>26.000000</td>\n",
       "      <td>1.0</td>\n",
       "      <td>yes</td>\n",
       "    </tr>\n",
       "    <tr>\n",
       "      <th>890</th>\n",
       "      <td>1</td>\n",
       "      <td>32.000000</td>\n",
       "      <td>3.0</td>\n",
       "      <td>no</td>\n",
       "    </tr>\n",
       "  </tbody>\n",
       "</table>\n",
       "<p>891 rows × 4 columns</p>\n",
       "</div>"
      ],
      "text/plain": [
       "     sex        age  social_class survived\n",
       "0      1  22.000000           3.0       no\n",
       "1      0  38.000000           1.0      yes\n",
       "2      0  26.000000           3.0      yes\n",
       "3      0  35.000000           1.0      yes\n",
       "4      1  35.000000           3.0       no\n",
       "5      1  29.699118           3.0       no\n",
       "6      1  54.000000           1.0       no\n",
       "7      1   2.000000           3.0       no\n",
       "8      0  27.000000           3.0      yes\n",
       "9      0  14.000000           2.0      yes\n",
       "10     0   4.000000           3.0      yes\n",
       "11     0  58.000000           1.0      yes\n",
       "12     1  20.000000           3.0       no\n",
       "13     1  39.000000           3.0       no\n",
       "14     0  14.000000           3.0       no\n",
       "15     0  55.000000           2.0      yes\n",
       "16     1   2.000000           3.0       no\n",
       "17     1  29.699118           2.0      yes\n",
       "18     0  31.000000           3.0       no\n",
       "19     0  29.699118           3.0      yes\n",
       "20     1  35.000000           2.0       no\n",
       "21     1  34.000000           2.0      yes\n",
       "22     0  15.000000           3.0      yes\n",
       "23     1  28.000000           1.0      yes\n",
       "24     0   8.000000           3.0       no\n",
       "25     0  38.000000           3.0      yes\n",
       "26     1  29.699118           3.0       no\n",
       "27     1  19.000000           1.0       no\n",
       "28     0  29.699118           3.0      yes\n",
       "29     1  29.699118           3.0       no\n",
       "..   ...        ...           ...      ...\n",
       "861    1  21.000000           2.0       no\n",
       "862    0  48.000000           1.0      yes\n",
       "863    0  29.699118           3.0       no\n",
       "864    1  24.000000           2.0       no\n",
       "865    0  42.000000           2.0      yes\n",
       "866    0  27.000000           2.0      yes\n",
       "867    1  31.000000           1.0       no\n",
       "868    1  29.699118           3.0       no\n",
       "869    1   4.000000           3.0      yes\n",
       "870    1  26.000000           3.0       no\n",
       "871    0  47.000000           1.0      yes\n",
       "872    1  33.000000           1.0       no\n",
       "873    1  47.000000           3.0       no\n",
       "874    0  28.000000           2.0      yes\n",
       "875    0  15.000000           3.0      yes\n",
       "876    1  20.000000           3.0       no\n",
       "877    1  19.000000           3.0       no\n",
       "878    1  29.699118           3.0       no\n",
       "879    0  56.000000           1.0      yes\n",
       "880    0  25.000000           2.0      yes\n",
       "881    1  33.000000           3.0       no\n",
       "882    0  22.000000           3.0       no\n",
       "883    1  28.000000           2.0       no\n",
       "884    1  25.000000           3.0       no\n",
       "885    0  39.000000           3.0       no\n",
       "886    1  27.000000           2.0       no\n",
       "887    0  19.000000           1.0      yes\n",
       "888    0  29.699118           3.0       no\n",
       "889    1  26.000000           1.0      yes\n",
       "890    1  32.000000           3.0       no\n",
       "\n",
       "[891 rows x 4 columns]"
      ]
     },
     "execution_count": 46,
     "metadata": {},
     "output_type": "execute_result"
    }
   ],
   "source": [
    "df"
   ]
  },
  {
   "cell_type": "markdown",
   "metadata": {},
   "source": [
    "### Verificando integridade dos dados"
   ]
  },
  {
   "cell_type": "code",
   "execution_count": 47,
   "metadata": {
    "collapsed": false
   },
   "outputs": [
    {
     "data": {
      "text/html": [
       "<div>\n",
       "<table border=\"1\" class=\"dataframe\">\n",
       "  <thead>\n",
       "    <tr style=\"text-align: right;\">\n",
       "      <th></th>\n",
       "      <th>sex</th>\n",
       "      <th>age</th>\n",
       "      <th>social_class</th>\n",
       "    </tr>\n",
       "  </thead>\n",
       "  <tbody>\n",
       "    <tr>\n",
       "      <th>count</th>\n",
       "      <td>891.000000</td>\n",
       "      <td>891.000000</td>\n",
       "      <td>891.000000</td>\n",
       "    </tr>\n",
       "    <tr>\n",
       "      <th>mean</th>\n",
       "      <td>0.647587</td>\n",
       "      <td>29.699118</td>\n",
       "      <td>2.308642</td>\n",
       "    </tr>\n",
       "    <tr>\n",
       "      <th>std</th>\n",
       "      <td>0.477990</td>\n",
       "      <td>13.002015</td>\n",
       "      <td>0.836071</td>\n",
       "    </tr>\n",
       "    <tr>\n",
       "      <th>min</th>\n",
       "      <td>0.000000</td>\n",
       "      <td>0.420000</td>\n",
       "      <td>1.000000</td>\n",
       "    </tr>\n",
       "    <tr>\n",
       "      <th>25%</th>\n",
       "      <td>0.000000</td>\n",
       "      <td>22.000000</td>\n",
       "      <td>2.000000</td>\n",
       "    </tr>\n",
       "    <tr>\n",
       "      <th>50%</th>\n",
       "      <td>1.000000</td>\n",
       "      <td>29.699118</td>\n",
       "      <td>3.000000</td>\n",
       "    </tr>\n",
       "    <tr>\n",
       "      <th>75%</th>\n",
       "      <td>1.000000</td>\n",
       "      <td>35.000000</td>\n",
       "      <td>3.000000</td>\n",
       "    </tr>\n",
       "    <tr>\n",
       "      <th>max</th>\n",
       "      <td>1.000000</td>\n",
       "      <td>80.000000</td>\n",
       "      <td>3.000000</td>\n",
       "    </tr>\n",
       "  </tbody>\n",
       "</table>\n",
       "</div>"
      ],
      "text/plain": [
       "              sex         age  social_class\n",
       "count  891.000000  891.000000    891.000000\n",
       "mean     0.647587   29.699118      2.308642\n",
       "std      0.477990   13.002015      0.836071\n",
       "min      0.000000    0.420000      1.000000\n",
       "25%      0.000000   22.000000      2.000000\n",
       "50%      1.000000   29.699118      3.000000\n",
       "75%      1.000000   35.000000      3.000000\n",
       "max      1.000000   80.000000      3.000000"
      ]
     },
     "execution_count": 47,
     "metadata": {},
     "output_type": "execute_result"
    }
   ],
   "source": [
    "df.describe()"
   ]
  },
  {
   "cell_type": "markdown",
   "metadata": {},
   "source": [
    "### Visualizando as informações de uma única coluna"
   ]
  },
  {
   "cell_type": "code",
   "execution_count": 48,
   "metadata": {
    "collapsed": false
   },
   "outputs": [
    {
     "data": {
      "text/plain": [
       "0       no\n",
       "1      yes\n",
       "2      yes\n",
       "3      yes\n",
       "4       no\n",
       "5       no\n",
       "6       no\n",
       "7       no\n",
       "8      yes\n",
       "9      yes\n",
       "10     yes\n",
       "11     yes\n",
       "12      no\n",
       "13      no\n",
       "14      no\n",
       "15     yes\n",
       "16      no\n",
       "17     yes\n",
       "18      no\n",
       "19     yes\n",
       "20      no\n",
       "21     yes\n",
       "22     yes\n",
       "23     yes\n",
       "24      no\n",
       "25     yes\n",
       "26      no\n",
       "27      no\n",
       "28     yes\n",
       "29      no\n",
       "      ... \n",
       "861     no\n",
       "862    yes\n",
       "863     no\n",
       "864     no\n",
       "865    yes\n",
       "866    yes\n",
       "867     no\n",
       "868     no\n",
       "869    yes\n",
       "870     no\n",
       "871    yes\n",
       "872     no\n",
       "873     no\n",
       "874    yes\n",
       "875    yes\n",
       "876     no\n",
       "877     no\n",
       "878     no\n",
       "879    yes\n",
       "880    yes\n",
       "881     no\n",
       "882     no\n",
       "883     no\n",
       "884     no\n",
       "885     no\n",
       "886     no\n",
       "887    yes\n",
       "888     no\n",
       "889    yes\n",
       "890     no\n",
       "Name: survived, dtype: object"
      ]
     },
     "execution_count": 48,
     "metadata": {},
     "output_type": "execute_result"
    }
   ],
   "source": [
    "df['survived']"
   ]
  },
  {
   "cell_type": "markdown",
   "metadata": {},
   "source": [
    "### Contando os valores"
   ]
  },
  {
   "cell_type": "code",
   "execution_count": 49,
   "metadata": {
    "collapsed": false
   },
   "outputs": [
    {
     "data": {
      "text/plain": [
       "no     549\n",
       "yes    342\n",
       "Name: survived, dtype: int64"
      ]
     },
     "execution_count": 49,
     "metadata": {},
     "output_type": "execute_result"
    }
   ],
   "source": [
    "df['survived'].value_counts()"
   ]
  },
  {
   "cell_type": "markdown",
   "metadata": {},
   "source": [
    "### Trazendo os valores únicos da coluna"
   ]
  },
  {
   "cell_type": "code",
   "execution_count": 50,
   "metadata": {
    "collapsed": false
   },
   "outputs": [
    {
     "data": {
      "text/plain": [
       "array([ 3.,  1.,  2.])"
      ]
     },
     "execution_count": 50,
     "metadata": {},
     "output_type": "execute_result"
    }
   ],
   "source": [
    "df.social_class.unique()"
   ]
  },
  {
   "cell_type": "markdown",
   "metadata": {},
   "source": [
    "### Acessando valores dentro da matriz"
   ]
  },
  {
   "cell_type": "code",
   "execution_count": 51,
   "metadata": {
    "collapsed": false
   },
   "outputs": [
    {
     "data": {
      "text/plain": [
       "'yes'"
      ]
     },
     "execution_count": 51,
     "metadata": {},
     "output_type": "execute_result"
    }
   ],
   "source": [
    "df.iloc[3,3]"
   ]
  },
  {
   "cell_type": "markdown",
   "metadata": {},
   "source": [
    "### Mostrando quantidade de homens (sex==1) sobreviventes por classe social"
   ]
  },
  {
   "cell_type": "code",
   "execution_count": 52,
   "metadata": {
    "collapsed": false
   },
   "outputs": [
    {
     "data": {
      "text/plain": [
       "3.0    47\n",
       "1.0    45\n",
       "2.0    17\n",
       "Name: social_class, dtype: int64"
      ]
     },
     "execution_count": 52,
     "metadata": {},
     "output_type": "execute_result"
    }
   ],
   "source": [
    "df.loc[(df.sex==1) & (df.survived=='yes')   ,   'social_class'].value_counts()"
   ]
  },
  {
   "cell_type": "markdown",
   "metadata": {},
   "source": [
    "### Plotando os dados"
   ]
  },
  {
   "cell_type": "code",
   "execution_count": 53,
   "metadata": {
    "collapsed": false
   },
   "outputs": [
    {
     "data": {
      "text/plain": [
       "<seaborn.axisgrid.PairGrid at 0xc8ceda0>"
      ]
     },
     "execution_count": 53,
     "metadata": {},
     "output_type": "execute_result"
    },
    {
     "data": {
      "image/png": "[encoded data removed]",
      "text/plain": [
       "<matplotlib.figure.Figure at 0xc8ce358>"
      ]
     },
     "metadata": {},
     "output_type": "display_data"
    }
   ],
   "source": [
    "sb.pairplot(df, hue='survived' )"
   ]
  },
  {
   "cell_type": "markdown",
   "metadata": {},
   "source": [
    "### Separando as features da resposta (eliminando a coluna survived) e passando para um vetor"
   ]
  },
  {
   "cell_type": "code",
   "execution_count": 54,
   "metadata": {
    "collapsed": false
   },
   "outputs": [],
   "source": [
    "X = np.array(df.drop('survived', axis=1))"
   ]
  },
  {
   "cell_type": "code",
   "execution_count": 55,
   "metadata": {
    "collapsed": false
   },
   "outputs": [
    {
     "data": {
      "text/plain": [
       "array([[  1.        ,  22.        ,   3.        ],\n",
       "       [  0.        ,  38.        ,   1.        ],\n",
       "       [  0.        ,  26.        ,   3.        ],\n",
       "       ..., \n",
       "       [  0.        ,  29.69911765,   3.        ],\n",
       "       [  1.        ,  26.        ,   1.        ],\n",
       "       [  1.        ,  32.        ,   3.        ]])"
      ]
     },
     "execution_count": 55,
     "metadata": {},
     "output_type": "execute_result"
    }
   ],
   "source": [
    "X"
   ]
  },
  {
   "cell_type": "code",
   "execution_count": 56,
   "metadata": {
    "collapsed": true
   },
   "outputs": [],
   "source": [
    "y = np.array(df.survived)"
   ]
  },
  {
   "cell_type": "code",
   "execution_count": 57,
   "metadata": {
    "collapsed": false
   },
   "outputs": [
    {
     "data": {
      "text/plain": [
       "array(['no', 'yes', 'yes', 'yes', 'no', 'no', 'no', 'no', 'yes', 'yes',\n",
       "       'yes', 'yes', 'no', 'no', 'no', 'yes', 'no', 'yes', 'no', 'yes',\n",
       "       'no', 'yes', 'yes', 'yes', 'no', 'yes', 'no', 'no', 'yes', 'no',\n",
       "       'no', 'yes', 'yes', 'no', 'no', 'no', 'yes', 'no', 'no', 'yes',\n",
       "       'no', 'no', 'no', 'yes', 'yes', 'no', 'no', 'yes', 'no', 'no', 'no',\n",
       "       'no', 'yes', 'yes', 'no', 'yes', 'yes', 'no', 'yes', 'no', 'no',\n",
       "       'yes', 'no', 'no', 'no', 'yes', 'yes', 'no', 'yes', 'no', 'no',\n",
       "       'no', 'no', 'no', 'yes', 'no', 'no', 'no', 'yes', 'yes', 'no',\n",
       "       'yes', 'yes', 'no', 'yes', 'yes', 'no', 'no', 'yes', 'no', 'no',\n",
       "       'no', 'no', 'no', 'no', 'no', 'no', 'yes', 'yes', 'no', 'no', 'no',\n",
       "       'no', 'no', 'no', 'no', 'yes', 'yes', 'no', 'yes', 'no', 'no', 'no',\n",
       "       'no', 'no', 'no', 'no', 'no', 'no', 'no', 'no', 'no', 'no', 'yes',\n",
       "       'no', 'yes', 'no', 'yes', 'yes', 'no', 'no', 'no', 'no', 'yes',\n",
       "       'no', 'no', 'yes', 'no', 'no', 'no', 'no', 'yes', 'yes', 'no', 'no',\n",
       "       'no', 'yes', 'no', 'no', 'no', 'no', 'yes', 'no', 'no', 'no', 'no',\n",
       "       'yes', 'no', 'no', 'no', 'no', 'yes', 'no', 'no', 'no', 'yes',\n",
       "       'yes', 'no', 'no', 'no', 'no', 'no', 'yes', 'no', 'no', 'no', 'no',\n",
       "       'no', 'no', 'no', 'no', 'no', 'no', 'yes', 'yes', 'no', 'yes',\n",
       "       'yes', 'no', 'no', 'yes', 'no', 'yes', 'yes', 'yes', 'yes', 'no',\n",
       "       'no', 'yes', 'no', 'no', 'no', 'no', 'no', 'yes', 'no', 'no', 'yes',\n",
       "       'yes', 'yes', 'no', 'yes', 'no', 'no', 'no', 'yes', 'yes', 'no',\n",
       "       'yes', 'no', 'yes', 'no', 'no', 'no', 'yes', 'no', 'yes', 'no',\n",
       "       'no', 'no', 'yes', 'no', 'no', 'yes', 'no', 'no', 'no', 'yes', 'no',\n",
       "       'no', 'no', 'yes', 'no', 'no', 'no', 'no', 'no', 'yes', 'yes', 'no',\n",
       "       'no', 'no', 'no', 'no', 'no', 'yes', 'yes', 'yes', 'yes', 'yes',\n",
       "       'no', 'yes', 'no', 'no', 'no', 'no', 'no', 'yes', 'yes', 'yes',\n",
       "       'no', 'yes', 'yes', 'no', 'yes', 'yes', 'no', 'no', 'no', 'yes',\n",
       "       'no', 'no', 'no', 'yes', 'no', 'no', 'yes', 'no', 'yes', 'yes',\n",
       "       'yes', 'yes', 'no', 'no', 'no', 'no', 'no', 'no', 'yes', 'yes',\n",
       "       'yes', 'yes', 'no', 'yes', 'no', 'yes', 'yes', 'yes', 'no', 'yes',\n",
       "       'yes', 'yes', 'no', 'no', 'no', 'yes', 'yes', 'no', 'yes', 'yes',\n",
       "       'no', 'no', 'yes', 'yes', 'no', 'yes', 'no', 'yes', 'yes', 'yes',\n",
       "       'yes', 'no', 'no', 'no', 'yes', 'no', 'no', 'yes', 'yes', 'no',\n",
       "       'yes', 'yes', 'no', 'no', 'no', 'yes', 'yes', 'yes', 'yes', 'no',\n",
       "       'no', 'no', 'no', 'no', 'no', 'no', 'yes', 'no', 'yes', 'yes', 'no',\n",
       "       'no', 'no', 'no', 'no', 'no', 'yes', 'yes', 'yes', 'yes', 'yes',\n",
       "       'no', 'no', 'no', 'no', 'yes', 'yes', 'no', 'no', 'no', 'yes',\n",
       "       'yes', 'no', 'yes', 'no', 'no', 'no', 'yes', 'no', 'yes', 'yes',\n",
       "       'yes', 'no', 'yes', 'yes', 'no', 'no', 'no', 'no', 'yes', 'yes',\n",
       "       'no', 'no', 'no', 'no', 'no', 'no', 'yes', 'no', 'no', 'no', 'no',\n",
       "       'yes', 'no', 'yes', 'no', 'yes', 'yes', 'no', 'no', 'no', 'no',\n",
       "       'no', 'no', 'no', 'no', 'yes', 'yes', 'no', 'yes', 'yes', 'yes',\n",
       "       'yes', 'no', 'no', 'yes', 'no', 'yes', 'no', 'no', 'yes', 'no',\n",
       "       'no', 'yes', 'yes', 'yes', 'yes', 'yes', 'yes', 'yes', 'no', 'no',\n",
       "       'no', 'yes', 'no', 'yes', 'no', 'yes', 'yes', 'no', 'yes', 'no',\n",
       "       'no', 'no', 'no', 'no', 'no', 'no', 'no', 'yes', 'no', 'no', 'yes',\n",
       "       'yes', 'no', 'no', 'no', 'no', 'no', 'yes', 'no', 'no', 'no', 'yes',\n",
       "       'yes', 'no', 'yes', 'no', 'no', 'yes', 'no', 'no', 'no', 'no', 'no',\n",
       "       'no', 'yes', 'no', 'no', 'no', 'no', 'no', 'no', 'no', 'yes', 'no',\n",
       "       'yes', 'yes', 'no', 'yes', 'yes', 'no', 'yes', 'yes', 'no', 'no',\n",
       "       'yes', 'no', 'yes', 'no', 'yes', 'no', 'no', 'yes', 'no', 'no',\n",
       "       'yes', 'no', 'no', 'no', 'yes', 'no', 'no', 'yes', 'no', 'yes',\n",
       "       'no', 'yes', 'no', 'yes', 'yes', 'no', 'no', 'yes', 'no', 'no',\n",
       "       'yes', 'yes', 'no', 'yes', 'yes', 'no', 'no', 'yes', 'yes', 'no',\n",
       "       'yes', 'no', 'yes', 'yes', 'no', 'no', 'no', 'no', 'no', 'no', 'no',\n",
       "       'no', 'no', 'yes', 'yes', 'yes', 'yes', 'yes', 'no', 'no', 'yes',\n",
       "       'yes', 'no', 'yes', 'yes', 'yes', 'no', 'no', 'no', 'yes', 'no',\n",
       "       'yes', 'no', 'no', 'no', 'yes', 'no', 'no', 'no', 'no', 'yes', 'no',\n",
       "       'no', 'yes', 'yes', 'no', 'no', 'no', 'yes', 'no', 'no', 'yes',\n",
       "       'yes', 'yes', 'no', 'no', 'yes', 'no', 'no', 'yes', 'no', 'no',\n",
       "       'yes', 'no', 'no', 'yes', 'yes', 'no', 'no', 'no', 'no', 'yes',\n",
       "       'no', 'no', 'yes', 'no', 'yes', 'no', 'no', 'yes', 'no', 'no', 'no',\n",
       "       'no', 'no', 'yes', 'no', 'yes', 'yes', 'yes', 'no', 'yes', 'no',\n",
       "       'yes', 'no', 'yes', 'no', 'yes', 'no', 'no', 'no', 'no', 'no', 'no',\n",
       "       'yes', 'no', 'no', 'no', 'yes', 'no', 'no', 'no', 'no', 'yes',\n",
       "       'yes', 'no', 'no', 'yes', 'no', 'no', 'no', 'yes', 'no', 'yes',\n",
       "       'no', 'yes', 'no', 'no', 'no', 'no', 'no', 'no', 'no', 'yes', 'yes',\n",
       "       'yes', 'yes', 'no', 'no', 'no', 'no', 'yes', 'no', 'no', 'yes',\n",
       "       'yes', 'no', 'no', 'no', 'no', 'yes', 'yes', 'yes', 'yes', 'yes',\n",
       "       'no', 'yes', 'no', 'no', 'no', 'yes', 'yes', 'no', 'no', 'yes',\n",
       "       'no', 'no', 'no', 'yes', 'no', 'yes', 'yes', 'no', 'no', 'yes',\n",
       "       'no', 'no', 'no', 'no', 'no', 'no', 'yes', 'no', 'no', 'yes', 'no',\n",
       "       'yes', 'no', 'yes', 'no', 'no', 'yes', 'no', 'no', 'yes', 'yes',\n",
       "       'no', 'no', 'yes', 'yes', 'no', 'no', 'no', 'yes', 'no', 'no',\n",
       "       'yes', 'yes', 'no', 'yes', 'no', 'no', 'no', 'no', 'no', 'no', 'no',\n",
       "       'no', 'yes', 'no', 'no', 'yes', 'no', 'yes', 'yes', 'yes', 'no',\n",
       "       'no', 'no', 'no', 'yes', 'no', 'yes', 'no', 'no', 'no', 'no', 'no',\n",
       "       'no', 'no', 'yes', 'yes', 'no', 'no', 'no', 'yes', 'yes', 'yes',\n",
       "       'yes', 'no', 'no', 'no', 'no', 'yes', 'no', 'no', 'no', 'no', 'no',\n",
       "       'no', 'no', 'no', 'no', 'no', 'yes', 'yes', 'no', 'yes', 'no', 'no',\n",
       "       'no', 'yes', 'yes', 'yes', 'yes', 'yes', 'no', 'no', 'no', 'yes',\n",
       "       'no', 'no', 'yes', 'yes', 'no', 'no', 'yes', 'no', 'no', 'no', 'no',\n",
       "       'no', 'no', 'yes', 'no', 'no', 'no', 'yes', 'no', 'yes', 'yes',\n",
       "       'yes', 'yes', 'no', 'no', 'no', 'yes', 'no', 'no', 'yes', 'yes',\n",
       "       'no', 'no', 'yes', 'no', 'yes', 'no', 'no', 'yes', 'yes', 'no',\n",
       "       'no', 'no', 'yes', 'yes', 'no', 'no', 'no', 'no', 'no', 'no', 'yes',\n",
       "       'no', 'yes', 'no'], dtype=object)"
      ]
     },
     "execution_count": 57,
     "metadata": {},
     "output_type": "execute_result"
    }
   ],
   "source": [
    "y"
   ]
  },
  {
   "cell_type": "markdown",
   "metadata": {},
   "source": [
    "## TREINAMENTO"
   ]
  },
  {
   "cell_type": "markdown",
   "metadata": {},
   "source": [
    "### importando a biblioteca Skitlearn"
   ]
  },
  {
   "cell_type": "code",
   "execution_count": 58,
   "metadata": {
    "collapsed": true
   },
   "outputs": [],
   "source": [
    "from sklearn import tree"
   ]
  },
  {
   "cell_type": "code",
   "execution_count": 59,
   "metadata": {
    "collapsed": true
   },
   "outputs": [],
   "source": [
    "clf = tree.DecisionTreeClassifier()"
   ]
  },
  {
   "cell_type": "code",
   "execution_count": 60,
   "metadata": {
    "collapsed": false
   },
   "outputs": [
    {
     "data": {
      "text/plain": [
       "DecisionTreeClassifier(class_weight=None, criterion='gini', max_depth=None,\n",
       "            max_features=None, max_leaf_nodes=None,\n",
       "            min_impurity_split=1e-07, min_samples_leaf=1,\n",
       "            min_samples_split=2, min_weight_fraction_leaf=0.0,\n",
       "            presort=False, random_state=None, splitter='best')"
      ]
     },
     "execution_count": 60,
     "metadata": {},
     "output_type": "execute_result"
    }
   ],
   "source": [
    "clf.fit(X,y)"
   ]
  },
  {
   "cell_type": "markdown",
   "metadata": {},
   "source": [
    "### Predição"
   ]
  },
  {
   "cell_type": "markdown",
   "metadata": {},
   "source": [
    "## Sex, Age, SocialClass"
   ]
  },
  {
   "cell_type": "markdown",
   "metadata": {},
   "source": [
    "#### Nesse momento indicamos três pessoas com seus respectivos atributos para saber se ela viveria ou não ao acidente"
   ]
  },
  {
   "cell_type": "code",
   "execution_count": 61,
   "metadata": {
    "collapsed": false
   },
   "outputs": [
    {
     "data": {
      "text/plain": [
       "array(['no', 'no', 'no'], dtype=object)"
      ]
     },
     "execution_count": 61,
     "metadata": {},
     "output_type": "execute_result"
    }
   ],
   "source": [
    "clf.predict([[0, 39, 3], \n",
    "             [1, 37, 3], \n",
    "             [1, 9, 3]])"
   ]
  },
  {
   "cell_type": "markdown",
   "metadata": {},
   "source": [
    "#### Agora calculamos a probabilidade de sobrevivência"
   ]
  },
  {
   "cell_type": "code",
   "execution_count": 62,
   "metadata": {
    "collapsed": false
   },
   "outputs": [
    {
     "data": {
      "text/plain": [
       "array([[ 1. ,  0. ],\n",
       "       [ 1. ,  0. ],\n",
       "       [ 0.5,  0.5]])"
      ]
     },
     "execution_count": 62,
     "metadata": {},
     "output_type": "execute_result"
    }
   ],
   "source": [
    "clf.predict_proba(([[0, 39, 3], \n",
    "                    [1, 37, 3], \n",
    "                    [1, 9, 3]]))"
   ]
  },
  {
   "cell_type": "markdown",
   "metadata": {},
   "source": [
    "### Salvando o modelo"
   ]
  },
  {
   "cell_type": "code",
   "execution_count": 63,
   "metadata": {
    "collapsed": true
   },
   "outputs": [],
   "source": [
    "import pickle"
   ]
  },
  {
   "cell_type": "markdown",
   "metadata": {},
   "source": [
    "#### wb = permissão de escrita / rb = permissão de leitura"
   ]
  },
  {
   "cell_type": "code",
   "execution_count": 71,
   "metadata": {
    "collapsed": false
   },
   "outputs": [],
   "source": [
    "filename = \"titanic.plk\"\n",
    "pickle.dump(clf, open(filename, 'wb'))"
   ]
  },
  {
   "cell_type": "markdown",
   "metadata": {},
   "source": [
    "### Carregando o modelo"
   ]
  },
  {
   "cell_type": "code",
   "execution_count": 72,
   "metadata": {
    "collapsed": false
   },
   "outputs": [],
   "source": [
    "cfl_loaded = pickle.load(open(filename, 'rb'))"
   ]
  },
  {
   "cell_type": "markdown",
   "metadata": {},
   "source": [
    "### Usando o modelo para predição"
   ]
  },
  {
   "cell_type": "code",
   "execution_count": 73,
   "metadata": {
    "collapsed": false
   },
   "outputs": [
    {
     "data": {
      "text/plain": [
       "array(['no', 'no', 'no'], dtype=object)"
      ]
     },
     "execution_count": 73,
     "metadata": {},
     "output_type": "execute_result"
    }
   ],
   "source": [
    "cfl_loaded.predict([[0, 39, 3], \n",
    "             [1, 37, 3], \n",
    "             [1, 9, 3]])"
   ]
  },
  {
   "cell_type": "code",
   "execution_count": null,
   "metadata": {
    "collapsed": true
   },
   "outputs": [],
   "source": []
  }
 ],
 "metadata": {
  "celltoolbar": "Raw Cell Format",
  "kernelspec": {
   "display_name": "Python 3",
   "language": "python",
   "name": "python3"
  },
  "language_info": {
   "codemirror_mode": {
    "name": "ipython",
    "version": 3
   },
   "file_extension": ".py",
   "mimetype": "text/x-python",
   "name": "python",
   "nbconvert_exporter": "python",
   "pygments_lexer": "ipython3",
   "version": "3.6.0"
  }
 },
 "nbformat": 4,
 "nbformat_minor": 2
}
